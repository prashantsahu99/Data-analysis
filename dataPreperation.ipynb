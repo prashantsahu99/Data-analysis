{
 "cells": [
  {
   "cell_type": "markdown",
   "metadata": {},
   "source": [
    "# Data Preparation\n",
    "\n",
    "### In this notebook we will prepare our data for our search function to use. <br>Currently we have data stored in four different ```csv``` files.<br>\n",
    "* apps.csv\n",
    "* user_reviews.csv\n",
    "<br>\n",
    "It can be computationally expensive to produce ```analysis results``` from multiple data-sources for incomming stream of requests.<br> So we will prepare our data and save it in an ```easily searchable``` structure."
   ]
  },
  {
   "cell_type": "code",
   "execution_count": 27,
   "metadata": {},
   "outputs": [],
   "source": [
    "# Import the needed modules...\n",
    "import pandas as pd\n",
    "from collections import defaultdict\n",
    "from os import getcwd"
   ]
  },
  {
   "cell_type": "markdown",
   "metadata": {},
   "source": [
    "## Define Paths to data files."
   ]
  },
  {
   "cell_type": "code",
   "execution_count": 28,
   "metadata": {},
   "outputs": [],
   "source": [
    "PATH_APPS   = f\"apps.csv\"\n",
    "PATH_USER_REVIEWS  = f\"user_reviews.csv\""
   ]
  },
  {
   "cell_type": "markdown",
   "metadata": {},
   "source": [
    "# Data Engineering<br>\n",
    "* ## Get data in dataframes.\n",
    "* ## Convert data to a single dictionary."
   ]
  },
  {
   "cell_type": "code",
   "execution_count": 29,
   "metadata": {},
   "outputs": [
    {
     "name": "stdout",
     "output_type": "stream",
     "text": [
      "COLUMNS : ['App', 'Category', 'Rating', 'Reviews', 'Size', 'Installs', 'Type', 'Price', 'Content Rating', 'Genres', 'Last Updated', 'Current Ver', 'Android Ver']\n"
     ]
    }
   ],
   "source": [
    "\"\"\"\n",
    "\n",
    "    Read data from apps.csv\n",
    "\"\"\"\n",
    "df_apps            = pd.read_csv(PATH_APPS)\n",
    "apps_table_columns = df_apps.columns.tolist()\n",
    "print(f\"COLUMNS : {apps_table_columns}\")"
   ]
  },
  {
   "cell_type": "code",
   "execution_count": 30,
   "metadata": {},
   "outputs": [
    {
     "name": "stdout",
     "output_type": "stream",
     "text": [
      "COLUMNS : ['App', 'Translated_Review', 'Sentiment', 'Sentiment_Polarity', 'Sentiment_Subjectivity']\n"
     ]
    }
   ],
   "source": [
    "\"\"\"\n",
    "    Read data from user_reviews.csv\n",
    "\"\"\"\n",
    "df_user_reviews            = pd.read_csv(PATH_USER_REVIEWS)\n",
    "user_reviews_table_columns = df_user_reviews.columns.tolist()\n",
    "print(f\"COLUMNS : {user_reviews_table_columns}\")"
   ]
  },
  {
   "cell_type": "markdown",
   "metadata": {},
   "source": [
    "* ```App``` is a common column in all two tables so we will use it as a primary search-key <br>\n",
    "* A user will always search a ```app``` by its ```name``` so we will create a ```Global secondary index``` to be able to perform search our  datastore.it will obviously take some extra space but almost negligible as compared to the size of the original data.In addition, It will make our searching faster and efficient so it's a good deal."
   ]
  },
  {
   "cell_type": "code",
   "execution_count": 31,
   "metadata": {},
   "outputs": [
    {
     "name": "stdout",
     "output_type": "stream",
     "text": [
      "It is True  that the column 'App' has unique values for all entries in movies dataframe.\n",
      "It is False  that the column 'App' has unique values for all entries in links dataframe.\n"
     ]
    }
   ],
   "source": [
    "print(f\"It is {df_apps['App'].is_unique}  that the column 'App' has unique values for all entries in movies dataframe.\")\n",
    "print(f\"It is {df_user_reviews['App'].is_unique}  that the column 'App' has unique values for all entries in links dataframe.\")\n",
    "# Sort app dataframe on the basis of App as App is unique for all entries...\n",
    "df_apps_sorted = df_apps.sort_values(by=['App'])\n",
    "\n",
    "# Sort links dataframe on the basis of App as App is unique for all entries...\n",
    "df_user_reviews_sorted  = df_user_reviews.sort_values(by=['App'])"
   ]
  },
  {
   "cell_type": "code",
   "execution_count": 32,
   "metadata": {},
   "outputs": [],
   "source": [
    "# from apps dataframe...\n",
    "apps    = df_apps_sorted[\"App\"].tolist()\n",
    "Categories = [Category.split(\"|\") for Category in df_apps[\"Category\"].tolist()]\n",
    "Installs = [Installs.split(\"|\") for Installs in df_apps[\"Installs\"].tolist()]\n",
    "Prices = [Price.split(\"|\") for Price in df_apps[\"Price\"].tolist()]\n",
    "Genres = [Genres.split(\"|\") for Genres in df_apps[\"Genres\"].tolist()]\n",
    "Last_updated = [Last_updated.split(\"|\") for Last_updated in df_apps[\"Last Updated\"].tolist()]\n",
    "\n",
    "# from user_reviews dataframe...\n",
    "Translated_Review  = df_user_reviews_sorted[\"Translated_Review\"].tolist()\n",
    "Sentiment  = df_user_reviews_sorted[\"Sentiment\"].tolist()\n",
    "Sentiment_Polarity  = df_user_reviews_sorted[\"Sentiment_Polarity\"].tolist()\n",
    "Sentiment_Subjectivity  = df_user_reviews_sorted[\"Sentiment_Subjectivity\"].tolist()"
   ]
  },
  {
   "cell_type": "code",
   "execution_count": 35,
   "metadata": {},
   "outputs": [],
   "source": [
    "appDict             = {}\n",
    "global_secondaryIndex = {}\n",
    "for idx, apps in enumerate(apps):\n",
    "    appDict[apps] = {\n",
    "        \"Category\" : Categories[idx],\n",
    "        \"Installs\" : Installs[idx],\n",
    "        \"Prices\" : Prices[idx],\n",
    "        \"Genres\" : Genres[idx],\n",
    "        \"Last_updated\" : Last_updated[idx],\n",
    "        \"links\" : {\n",
    "            \"Translated_Review\" : Translated_Review[idx], \n",
    "            \"Sentiment\" : Sentiment[idx],\n",
    "            \"Sentiment_Polarity\" : Sentiment_Polarity[idx],\n",
    "            \"Sentiment_Subjectivity\" : Sentiment_Subjectivity[idx]\n",
    "        }\n",
    "    }\n",
    "    \n",
    "    global_secondaryIndex[apps[idx]] = apps"
   ]
  },
  {
   "cell_type": "code",
   "execution_count": 36,
   "metadata": {},
   "outputs": [
    {
     "name": "stdout",
     "output_type": "stream",
     "text": [
      "[INFO] Writing app Data into the disk...\n",
      "[INFO] Writing Global Secondary Index Data into the disk...\n"
     ]
    }
   ],
   "source": [
    "import json\n",
    "print(\"[INFO] Writing app Data into the disk...\")\n",
    "with open('dataFinal.json', 'w') as fp:\n",
    "    json.dump(appDict, fp, sort_keys=True, indent=4)\n",
    "print(\"[INFO] Writing Global Secondary Index Data into the disk...\")\n",
    "with open('dataFinal_GIS.json', 'w') as fp:\n",
    "    json.dump(global_secondaryIndex, fp, sort_keys=True, indent=4)"
   ]
  },
  {
   "cell_type": "markdown",
   "metadata": {},
   "source": [
    "#### At this point, our database is ready and it can handel high inflow of requests."
   ]
  },
  {
   "cell_type": "code",
   "execution_count": null,
   "metadata": {},
   "outputs": [],
   "source": []
  }
 ],
 "metadata": {
  "interpreter": {
   "hash": "5d97ad4eda96f4e0dcd5ae4f97368654619500468c6147550d2a1b2a1881f9a5"
  },
  "kernelspec": {
   "display_name": "Python 3",
   "language": "python",
   "name": "python3"
  },
  "language_info": {
   "codemirror_mode": {
    "name": "ipython",
    "version": 3
   },
   "file_extension": ".py",
   "mimetype": "text/x-python",
   "name": "python",
   "nbconvert_exporter": "python",
   "pygments_lexer": "ipython3",
   "version": "3.8.8"
  }
 },
 "nbformat": 4,
 "nbformat_minor": 2
}
